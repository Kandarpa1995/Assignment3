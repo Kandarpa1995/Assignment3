{
 "cells": [
  {
   "cell_type": "code",
   "execution_count": 2,
   "id": "a8d9333e-b00e-48a7-8506-f166bed342be",
   "metadata": {},
   "outputs": [],
   "source": [
    "#1. Why are functions advantageous to have in your programs?\n",
    "#Ans: Functions reduce the need of duplicate code. This makes programs shorter,easier to read and easier to update."
   ]
  },
  {
   "cell_type": "code",
   "execution_count": 3,
   "id": "8315e588-7e9a-4867-bc1d-6dfa33b22c46",
   "metadata": {},
   "outputs": [],
   "source": [
    "#2. When does the code in a function run: when it's specified or when it's called?\n",
    "#Ans: The code in a function run: when it's called."
   ]
  },
  {
   "cell_type": "code",
   "execution_count": 4,
   "id": "252eef42-abf8-4d3f-98f3-81ffe11a9643",
   "metadata": {},
   "outputs": [],
   "source": [
    "#3. What statement creates a function?\n",
    "#Ans: The def statement defines(that is create) a function"
   ]
  },
  {
   "cell_type": "code",
   "execution_count": 5,
   "id": "b90f4712-e075-4081-8a6d-4d815d98e979",
   "metadata": {},
   "outputs": [],
   "source": [
    "#4. What is the difference between a function and a function call?\n",
    "#Ans: A function consists of the def statement and codes in its def clause.\n",
    "#A function call is what moves the program execution into the function, and the function call evaluates to the function's return value."
   ]
  },
  {
   "cell_type": "code",
   "execution_count": 6,
   "id": "bac5aef5-16a8-49af-9031-ab1336c59d75",
   "metadata": {},
   "outputs": [],
   "source": [
    "#5. How many global scopes are there in a Python program? How many local scopes?\n",
    "#Ans:There is one global scopes, and a local scope is created whenever a function is called."
   ]
  },
  {
   "cell_type": "code",
   "execution_count": 7,
   "id": "67126096-a8a3-43af-a430-4ca6452ca015",
   "metadata": {},
   "outputs": [],
   "source": [
    "#6. What happens to variables in a local scope when the function call returns?\n",
    "#Ans:When the function call returns the local scope is destroyed and all the variable is it are forgotten."
   ]
  },
  {
   "cell_type": "code",
   "execution_count": 8,
   "id": "748c8170-3ae3-4436-8306-396e6bae6b3b",
   "metadata": {},
   "outputs": [],
   "source": [
    "#7. What is the concept of a return value? Is it possible to have a return value in an expression?\n",
    "#Ans: A return value is the value that a function call evaluates to, a return value can be used as part of an expression."
   ]
  },
  {
   "cell_type": "code",
   "execution_count": 9,
   "id": "d2a1d3e9-22d4-4aae-b0c0-74180bd37d9e",
   "metadata": {},
   "outputs": [],
   "source": [
    "#8. If a function does not have a return statement, what is the return value of a call to that function?\n",
    "#Ans:If a function does not have a return statement,the return value of a call to that function is None."
   ]
  },
  {
   "cell_type": "code",
   "execution_count": 10,
   "id": "92d63f31-e340-4c6b-a782-e2e315d857bc",
   "metadata": {},
   "outputs": [],
   "source": [
    "#9. How do you make a function variable refer to the global variable?\n",
    "#Ans: A global statement will force a variable in a function to refer to the global variable."
   ]
  },
  {
   "cell_type": "code",
   "execution_count": 11,
   "id": "5774d994-c218-433b-be3e-24d926c76d55",
   "metadata": {},
   "outputs": [],
   "source": [
    "#10. What is the data type of None?\n",
    "#Ans: The data type of None is NoneType"
   ]
  },
  {
   "cell_type": "code",
   "execution_count": 12,
   "id": "9657130c-1ea0-4524-aaa1-c4c9c8869974",
   "metadata": {},
   "outputs": [],
   "source": [
    "#11. What does the sentence import areallyourpetsnamederic do?\n",
    "#Ans:The import statesment imports a module named areallyourpetsnamederic."
   ]
  },
  {
   "cell_type": "code",
   "execution_count": 13,
   "id": "4fbb8943-d3f8-490f-9404-fda49d5cb7a3",
   "metadata": {},
   "outputs": [],
   "source": [
    "#12. If you had a bacon() feature in a spam module, what would you call it after importing spam?\n",
    "#Ans: The function can be called with spam.bacon()."
   ]
  },
  {
   "cell_type": "code",
   "execution_count": 14,
   "id": "8fe0ec75-866e-487a-b1b2-81e73dad3c73",
   "metadata": {},
   "outputs": [],
   "source": [
    "#13. What can you do to save a programme from crashing if it encounters an error?\n",
    "#Ans: Place the line of a code that might cause en error in a try clause."
   ]
  },
  {
   "cell_type": "code",
   "execution_count": 15,
   "id": "af3894be-e550-4f67-b53c-79632e6546c8",
   "metadata": {},
   "outputs": [],
   "source": [
    "#14. What is the purpose of the try clause? What is the purpose of the except clause?\n",
    "#Ans: The purpose of the try clause is the code that could purposely cause an error.\n",
    "#The purpose of the except clause is the code that excutes if an error happens"
   ]
  },
  {
   "cell_type": "code",
   "execution_count": null,
   "id": "516a567f-ef6c-481a-9ba2-7753161ac6a8",
   "metadata": {},
   "outputs": [],
   "source": []
  }
 ],
 "metadata": {
  "kernelspec": {
   "display_name": "Python 3 (ipykernel)",
   "language": "python",
   "name": "python3"
  },
  "language_info": {
   "codemirror_mode": {
    "name": "ipython",
    "version": 3
   },
   "file_extension": ".py",
   "mimetype": "text/x-python",
   "name": "python",
   "nbconvert_exporter": "python",
   "pygments_lexer": "ipython3",
   "version": "3.10.6"
  }
 },
 "nbformat": 4,
 "nbformat_minor": 5
}
